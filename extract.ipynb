{
 "cells": [
  {
   "cell_type": "code",
   "execution_count": 1,
   "metadata": {},
   "outputs": [],
   "source": [
    "from xml.etree import ElementTree\n",
    "import re\n",
    "import numpy as np\n",
    "from numpy.typing import NDArray\n",
    "import pandas as pd\n",
    "from sympy.geometry import Plane, Point3D, Segment3D\n",
    "from typing import Any, Dict, List, Union, Optional, Tuple, Iterable\n",
    "from itertools import islice\n",
    "from dataclasses import dataclass\n",
    "from __future__ import annotations"
   ]
  },
  {
   "cell_type": "code",
   "execution_count": 2,
   "metadata": {},
   "outputs": [],
   "source": [
    "tree = ElementTree.parse('./tutorial.dae')"
   ]
  },
  {
   "cell_type": "code",
   "execution_count": 3,
   "metadata": {},
   "outputs": [
    {
     "data": {
      "text/plain": [
       "<Element '{http://www.collada.org/2005/11/COLLADASchema}COLLADA' at 0x000002AC2B1E3F10>"
      ]
     },
     "execution_count": 3,
     "metadata": {},
     "output_type": "execute_result"
    }
   ],
   "source": [
    "root = tree.getroot()\n",
    "root"
   ]
  },
  {
   "cell_type": "code",
   "execution_count": 4,
   "metadata": {},
   "outputs": [
    {
     "name": "stdout",
     "output_type": "stream",
     "text": [
      "{http://www.collada.org/2005/11/COLLADASchema}asset\n",
      "{http://www.collada.org/2005/11/COLLADASchema}library_cameras\n",
      "{http://www.collada.org/2005/11/COLLADASchema}library_lights\n",
      "{http://www.collada.org/2005/11/COLLADASchema}library_effects\n",
      "{http://www.collada.org/2005/11/COLLADASchema}library_images\n",
      "{http://www.collada.org/2005/11/COLLADASchema}library_materials\n",
      "{http://www.collada.org/2005/11/COLLADASchema}library_geometries\n",
      "{http://www.collada.org/2005/11/COLLADASchema}library_visual_scenes\n",
      "{http://www.collada.org/2005/11/COLLADASchema}scene\n"
     ]
    }
   ],
   "source": [
    "for child in root:\n",
    "    print(child.tag)"
   ]
  },
  {
   "cell_type": "code",
   "execution_count": 5,
   "metadata": {},
   "outputs": [],
   "source": [
    "geometries = [child for child in root[6]]\n"
   ]
  },
  {
   "cell_type": "code",
   "execution_count": 6,
   "metadata": {},
   "outputs": [],
   "source": [
    "meshes: Dict[str, dict]\n",
    "meshes = {}"
   ]
  },
  {
   "cell_type": "code",
   "execution_count": 7,
   "metadata": {},
   "outputs": [
    {
     "name": "stdout",
     "output_type": "stream",
     "text": [
      "0 {http://www.collada.org/2005/11/COLLADASchema}source {'id': 'Cube_002-mesh-positions'}\n",
      "0 {http://www.collada.org/2005/11/COLLADASchema}source {'id': 'Cube_002-mesh-normals'}\n",
      "0 {http://www.collada.org/2005/11/COLLADASchema}source {'id': 'Cube_002-mesh-map-0'}\n",
      "0 {http://www.collada.org/2005/11/COLLADASchema}source {'id': 'Cube_002-mesh-colors-Color', 'name': 'Color'}\n",
      "0 {http://www.collada.org/2005/11/COLLADASchema}vertices {'id': 'Cube_002-mesh-vertices'}\n",
      "0 {http://www.collada.org/2005/11/COLLADASchema}triangles {'material': 'Vtxcolor-material', 'count': '44'}\n",
      "1 {http://www.collada.org/2005/11/COLLADASchema}source {'id': 'Cube_001-mesh-positions'}\n",
      "1 {http://www.collada.org/2005/11/COLLADASchema}source {'id': 'Cube_001-mesh-normals'}\n",
      "1 {http://www.collada.org/2005/11/COLLADASchema}source {'id': 'Cube_001-mesh-map-0'}\n",
      "1 {http://www.collada.org/2005/11/COLLADASchema}vertices {'id': 'Cube_001-mesh-vertices'}\n",
      "1 {http://www.collada.org/2005/11/COLLADASchema}triangles {'count': '12'}\n",
      "2 {http://www.collada.org/2005/11/COLLADASchema}source {'id': 'Cylinder-mesh-positions'}\n",
      "2 {http://www.collada.org/2005/11/COLLADASchema}source {'id': 'Cylinder-mesh-normals'}\n",
      "2 {http://www.collada.org/2005/11/COLLADASchema}source {'id': 'Cylinder-mesh-map-0'}\n",
      "2 {http://www.collada.org/2005/11/COLLADASchema}source {'id': 'Cylinder-mesh-colors-Color', 'name': 'Color'}\n",
      "2 {http://www.collada.org/2005/11/COLLADASchema}vertices {'id': 'Cylinder-mesh-vertices'}\n",
      "2 {http://www.collada.org/2005/11/COLLADASchema}triangles {'material': 'Vtxcolor2-material', 'count': '44'}\n",
      "3 {http://www.collada.org/2005/11/COLLADASchema}source {'id': 'Cube-mesh-positions'}\n",
      "3 {http://www.collada.org/2005/11/COLLADASchema}source {'id': 'Cube-mesh-normals'}\n",
      "3 {http://www.collada.org/2005/11/COLLADASchema}source {'id': 'Cube-mesh-map-0'}\n",
      "3 {http://www.collada.org/2005/11/COLLADASchema}vertices {'id': 'Cube-mesh-vertices'}\n",
      "3 {http://www.collada.org/2005/11/COLLADASchema}triangles {'material': 'Material-material', 'count': '50'}\n"
     ]
    }
   ],
   "source": [
    "for i, geom in enumerate(geometries):\n",
    "    mesh = geom[0]\n",
    "    name = geom.attrib['name']\n",
    "    meshes[name] = {}\n",
    "    for source in mesh:\n",
    "        print(i, source.tag, source.attrib)\n",
    "        tag = re.sub(r\"\\{[^{}]*\\}\", \"\", source.tag)\n",
    "        if tag == 'source':\n",
    "            attribute = source.attrib['id'].split(\"-\")[1:3]\n",
    "            attribute = \"-\".join(attribute)\n",
    "            meshes[name][attribute] = {}\n",
    "            for child in source:\n",
    "                child_tag = re.sub(r\"\\{[^{}]*\\}\", \"\", child.tag)\n",
    "                meshes[name][attribute][child_tag] = child\n",
    "        elif tag == 'triangles':\n",
    "            meshes[name][tag] = {}\n",
    "            semantics = 0\n",
    "            for child in source:\n",
    "                child_tag = re.sub(r\"\\{[^{}]*\\}\", \"\", child.tag)\n",
    "                if child_tag == 'input':\n",
    "                    meshes[name][tag][child.attrib['semantic']] = child.attrib['offset']\n",
    "                    semantics += 1\n",
    "                elif child_tag == 'p':\n",
    "                    assert isinstance(child.text, str)\n",
    "                    meshes[name][tag]['data'] = np.fromstring(child.text, dtype=np.int64, sep=' ').reshape((-1, semantics))\n",
    "        "
   ]
  },
  {
   "cell_type": "code",
   "execution_count": 8,
   "metadata": {},
   "outputs": [],
   "source": [
    "def reshape_data_into_numpy(meshes: Dict[str, dict], key_to_reshape: str):\n",
    "    for key in meshes:\n",
    "        if key_to_reshape in meshes[key].keys():\n",
    "            meshes[key][key_to_reshape]['float_array'] = np.fromstring(meshes[key][key_to_reshape]['float_array'].text, sep=' ') \\\n",
    "                .reshape((-1, int(meshes[key][key_to_reshape]['technique_common'][0].attrib['stride'])))"
   ]
  },
  {
   "cell_type": "code",
   "execution_count": 9,
   "metadata": {},
   "outputs": [
    {
     "data": {
      "text/plain": [
       "[None, None, None, None]"
      ]
     },
     "execution_count": 9,
     "metadata": {},
     "output_type": "execute_result"
    }
   ],
   "source": [
    "to_reshape = ('mesh-positions', 'mesh-normals', 'mesh-map', 'mesh-colors')\n",
    "list(map(lambda x: reshape_data_into_numpy(meshes, x), to_reshape))"
   ]
  },
  {
   "cell_type": "code",
   "execution_count": 10,
   "metadata": {},
   "outputs": [],
   "source": [
    "mapping_names_to_triangle_attribs = {\n",
    "    'mesh-positions': 'VERTEX',\n",
    "    'mesh-colors': 'COLOR',\n",
    "    'mesh-normals': 'NORMAL',\n",
    "    'mesh-map': 'TEXCOORD'\n",
    "}\n",
    "for key in meshes:\n",
    "    for name in to_reshape:\n",
    "        if mapping_names_to_triangle_attribs[name] in meshes[key]['triangles']:\n",
    "            meshes[key]['triangles'][name] = int(meshes[key]['triangles'].pop(mapping_names_to_triangle_attribs[name]))"
   ]
  },
  {
   "cell_type": "code",
   "execution_count": 11,
   "metadata": {},
   "outputs": [],
   "source": [
    "# class for holding data of each vertex\n",
    "@dataclass\n",
    "class Vertex:\n",
    "    position: List[float]\n",
    "    normal: List[float]\n",
    "    texture: List[float]\n",
    "    colors: Optional[List[float]] = None\n",
    "\n",
    "# class for triangle to then calculate area\n",
    "@dataclass\n",
    "class Triangle:\n",
    "    vertices: Tuple[Vertex, Vertex, Vertex]\n",
    "\n",
    "    def cross(self):\n",
    "        p0 = np.array(self.vertices[0].position, dtype=np.float64)\n",
    "        p1 = np.array(self.vertices[1].position, dtype=np.float64)\n",
    "        p2 = np.array(self.vertices[2].position, dtype=np.float64)\n",
    "        v = p0 - p1\n",
    "        u = p0 - p2\n",
    "        return np.cross(v, u)\n",
    "\n",
    "    def calculate_area(self):\n",
    "        cross = self.cross()\n",
    "        self.area = np.linalg.norm(cross) / 2\n",
    "\n",
    "    def calculate_normals(self):\n",
    "        # set to get unique values\n",
    "        normals = {tuple(x.normal) for x in self.vertices}\n",
    "        if len(normals) == 1:\n",
    "            self.normal = np.array(self.vertices[0].normal)\n",
    "        else: \n",
    "            cross = self.cross()\n",
    "            self.normal = cross / np.linalg.norm(cross)\n",
    "    \n",
    "    def calculate_midpoints(self):\n",
    "        positions = [np.array(x.position) for x in self.vertices]\n",
    "        sum_pos = sum(positions)\n",
    "        assert isinstance(sum_pos, np.ndarray)\n",
    "        self.midpoint = sum_pos / len(positions)\n",
    "\n",
    "    def intersection_triangle(self, light_center: NDArray[np.float64], ray_direction: NDArray[np.float64]) -> bool:\n",
    "\n",
    "        p0 = np.array(self.vertices[0].position, dtype=np.float64)\n",
    "        p1 = np.array(self.vertices[1].position, dtype=np.float64)\n",
    "        p2 = np.array(self.vertices[2].position, dtype=np.float64)\n",
    "\n",
    "        e1 = p1 - p0\n",
    "        e2 = p2 - p0\n",
    "        distance_from_light = np.linalg.norm(ray_direction)\n",
    "        ray_direction_norm = ray_direction / distance_from_light\n",
    "        transf_matrix = np.column_stack((-ray_direction_norm, e1, e2))\n",
    "        x = np.linalg.solve(transf_matrix, light_center - p0)\n",
    "        t = x[0]\n",
    "        u = x[1]\n",
    "        v = x[2]\n",
    "\n",
    "        condition = (0 <= u) and (0 <= v) and (u + v <= 1) and (0 < t < distance_from_light)\n",
    "        # if condition:\n",
    "        #     print(x)\n",
    "\n",
    "        return condition\n",
    "\n",
    "\n"
   ]
  },
  {
   "cell_type": "code",
   "execution_count": 12,
   "metadata": {},
   "outputs": [],
   "source": [
    "def get_idx_from_geometry(geometry: Dict[str, dict], name: str) -> np.ndarray:\n",
    "    return geometry['triangles']['data'][:, int(geometry['triangles'][name])]\n",
    "\n",
    "def get_arrays_from_idx(geometry: Dict[str, dict], name: str, idx: np.ndarray) -> np.ndarray:\n",
    "    df = pd.DataFrame(geometry[name]['float_array'])\n",
    "    return df.loc[idx, :].to_numpy()\n",
    "\n",
    "\n",
    "def create_vertex_list(geometry: Dict[str, Dict[str, Any]]) -> List[Vertex]:\n",
    "    names = [key for key in geometry['triangles'].keys() if key != 'data']\n",
    "\n",
    "    indexes = list(map(lambda x: get_idx_from_geometry(geometry, x), names))\n",
    "    arrays = list(map(lambda x: get_arrays_from_idx(geometry, *x), zip(names, indexes)))\n",
    "    map_names_to_kwargs = {\n",
    "        'mesh-positions': 'position',\n",
    "        'mesh-colors': 'colors',\n",
    "        'mesh-normals': 'normal',\n",
    "        'mesh-map': 'texture'\n",
    "    }\n",
    "    kwargs_df = {map_names_to_kwargs[name]: array.tolist() for name, array in zip(names, arrays)}\n",
    "    kwargs_df = pd.DataFrame.from_dict(kwargs_df)\n",
    "    list_triangles = [Vertex(**kwargs) for _, kwargs in kwargs_df.iterrows()]\n",
    "    return list_triangles\n",
    "    "
   ]
  },
  {
   "cell_type": "code",
   "execution_count": 13,
   "metadata": {},
   "outputs": [],
   "source": [
    "vertices = {key: create_vertex_list(meshes[key]) for key in meshes.keys()}"
   ]
  },
  {
   "cell_type": "code",
   "execution_count": 14,
   "metadata": {},
   "outputs": [],
   "source": [
    "# split into 3-vertices chunks to then put into triangle\n",
    "def chunk(it: Iterable[Any], size: int):\n",
    "    it = iter(it)\n",
    "    return iter(lambda: tuple(islice(it, size)), ())\n",
    "\n",
    "triangles = {key: list(map(lambda x: Triangle(x), chunk(vertices[key], 3))) for key in vertices.keys()}"
   ]
  },
  {
   "cell_type": "code",
   "execution_count": 15,
   "metadata": {},
   "outputs": [],
   "source": [
    "scene_data = [child for child in root[7][0]]"
   ]
  },
  {
   "cell_type": "code",
   "execution_count": 16,
   "metadata": {},
   "outputs": [],
   "source": [
    "assert isinstance(scene_data[4][0].text, str)\n",
    "light_matrix = np.fromstring(scene_data[4][0].text, sep=' ').reshape((-1, 4))"
   ]
  },
  {
   "cell_type": "code",
   "execution_count": 17,
   "metadata": {},
   "outputs": [
    {
     "data": {
      "text/plain": [
       "array([[-0.2908646 , -0.7711008 ,  0.5663932 ,  5.033271  ],\n",
       "       [ 0.9551712 , -0.1998834 ,  0.2183912 ,  0.4453149 ],\n",
       "       [-0.05518906,  0.6045247 ,  0.7946723 ,  4.101171  ],\n",
       "       [ 0.        ,  0.        ,  0.        ,  1.        ]])"
      ]
     },
     "execution_count": 17,
     "metadata": {},
     "output_type": "execute_result"
    }
   ],
   "source": [
    "light_matrix"
   ]
  },
  {
   "cell_type": "code",
   "execution_count": 18,
   "metadata": {},
   "outputs": [
    {
     "data": {
      "text/plain": [
       "array([5.033271 , 0.4453149, 4.101171 ])"
      ]
     },
     "execution_count": 18,
     "metadata": {},
     "output_type": "execute_result"
    }
   ],
   "source": [
    "light_source_position = light_matrix[:, 3][:3]\n",
    "light_source_position"
   ]
  },
  {
   "cell_type": "code",
   "execution_count": 19,
   "metadata": {},
   "outputs": [],
   "source": [
    "light_source_point = Point3D(*light_source_position)"
   ]
  },
  {
   "cell_type": "code",
   "execution_count": 20,
   "metadata": {},
   "outputs": [],
   "source": [
    "all_triangles: List[Triangle]\n",
    "all_triangles = []\n",
    "for key in triangles.keys():\n",
    "    all_triangles.extend(triangles[key])"
   ]
  },
  {
   "cell_type": "code",
   "execution_count": 21,
   "metadata": {},
   "outputs": [],
   "source": [
    "# calculate attribs for triangles\n",
    "for triangle in all_triangles:\n",
    "    triangle.calculate_area()\n",
    "    triangle.calculate_midpoints()\n",
    "    triangle.calculate_normals()"
   ]
  },
  {
   "cell_type": "code",
   "execution_count": 22,
   "metadata": {},
   "outputs": [
    {
     "data": {
      "text/plain": [
       "150"
      ]
     },
     "execution_count": 22,
     "metadata": {},
     "output_type": "execute_result"
    }
   ],
   "source": [
    "len(all_triangles)"
   ]
  },
  {
   "cell_type": "code",
   "execution_count": 23,
   "metadata": {},
   "outputs": [],
   "source": [
    "from copy import copy\n",
    "\n",
    "\n",
    "all_triangles_cpy = copy(all_triangles)\n",
    "visibility = np.ones((len(all_triangles),))\n",
    "for i, triang in enumerate(all_triangles):\n",
    "    # print(f\"Triangle {i}\")\n",
    "    from_light_to_midpoint_dir = triang.midpoint - light_source_position\n",
    "    for j, other_triang in enumerate(all_triangles_cpy):\n",
    "        if i != j and other_triang.intersection_triangle(light_source_position, from_light_to_midpoint_dir):\n",
    "            visibility[i] = 0\n",
    "            break\n",
    "        \n",
    "    # if i % 5 == 0:\n",
    "    #     print(visibility)\n",
    "        \n",
    "        "
   ]
  },
  {
   "cell_type": "code",
   "execution_count": 24,
   "metadata": {},
   "outputs": [
    {
     "data": {
      "text/plain": [
       "array([0., 0., 1., 0., 0., 1., 0., 1., 0., 1., 0., 0., 0., 0., 0., 0., 1.,\n",
       "       1., 0., 0., 0., 0., 0., 0., 1., 0., 0., 1., 1., 0., 1., 1., 0., 0.,\n",
       "       0., 0., 1., 1., 1., 1., 0., 0., 0., 0., 0., 0., 1., 0., 0., 0., 0.,\n",
       "       0., 1., 0., 0., 1., 0., 0., 0., 0., 0., 0., 0., 0., 0., 0., 0., 0.,\n",
       "       0., 0., 0., 0., 0., 0., 0., 0., 0., 0., 0., 0., 0., 0., 1., 0., 0.,\n",
       "       0., 0., 0., 0., 0., 0., 0., 0., 0., 0., 0., 0., 0., 0., 0., 1., 0.,\n",
       "       0., 0., 0., 0., 0., 0., 0., 0., 0., 0., 0., 0., 0., 0., 0., 0., 0.,\n",
       "       0., 0., 1., 0., 1., 1., 1., 0., 0., 0., 0., 0., 0., 0., 0., 0., 0.,\n",
       "       0., 0., 0., 0., 0., 0., 0., 0., 0., 0., 1., 1., 1., 1.])"
      ]
     },
     "execution_count": 24,
     "metadata": {},
     "output_type": "execute_result"
    }
   ],
   "source": [
    "visibility"
   ]
  }
 ],
 "metadata": {
  "kernelspec": {
   "display_name": "Python 3.10.6 ('ITA')",
   "language": "python",
   "name": "python3"
  },
  "language_info": {
   "codemirror_mode": {
    "name": "ipython",
    "version": 3
   },
   "file_extension": ".py",
   "mimetype": "text/x-python",
   "name": "python",
   "nbconvert_exporter": "python",
   "pygments_lexer": "ipython3",
   "version": "3.10.6"
  },
  "orig_nbformat": 4,
  "vscode": {
   "interpreter": {
    "hash": "b3b45248f61a52d554e4bf0dfdd5d60255b443cb1f18f5ccd723e6d6f24c7339"
   }
  }
 },
 "nbformat": 4,
 "nbformat_minor": 2
}
